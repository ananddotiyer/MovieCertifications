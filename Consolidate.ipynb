{
 "cells": [
  {
   "cell_type": "code",
   "execution_count": null,
   "metadata": {},
   "outputs": [],
   "source": [
    "#### To be run from the Google drive, as a colab."
   ]
  },
  {
   "cell_type": "markdown",
   "metadata": {
    "id": "PvrmxMJKzCZD"
   },
   "source": [
    "Consolidate all .json files in folder (except consolidated.json) into consolidated.json.  \n",
    "\n",
    "Should be run from the Google drive, that has all .json files stored in it."
   ]
  },
  {
   "cell_type": "code",
   "execution_count": null,
   "metadata": {
    "colab": {
     "base_uri": "https://localhost:8080/"
    },
    "executionInfo": {
     "elapsed": 28311,
     "status": "ok",
     "timestamp": 1644071677316,
     "user": {
      "displayName": "Anand K. Iyer",
      "photoUrl": "https://lh3.googleusercontent.com/a/default-user=s64",
      "userId": "08985927115797635888"
     },
     "user_tz": -330
    },
    "id": "fbtgR3y7ThNp",
    "outputId": "71f56745-6ab3-406f-d55a-55e10724fa49"
   },
   "outputs": [],
   "source": [
    "from google.colab import drive\n",
    "drive.mount('/content/drive')"
   ]
  },
  {
   "cell_type": "code",
   "execution_count": null,
   "metadata": {
    "colab": {
     "base_uri": "https://localhost:8080/",
     "height": 519
    },
    "executionInfo": {
     "elapsed": 12775,
     "status": "error",
     "timestamp": 1644071720505,
     "user": {
      "displayName": "Anand K. Iyer",
      "photoUrl": "https://lh3.googleusercontent.com/a/default-user=s64",
      "userId": "08985927115797635888"
     },
     "user_tz": -330
    },
    "id": "LA9z8UInCSu-",
    "outputId": "3e7492bb-f09e-4ce9-b049-69a60f68ac37"
   },
   "outputs": [],
   "source": [
    "import json\n",
    "import os\n",
    "\n",
    "import pandas as pd\n",
    "\n",
    "folder = \"/content/drive/MyDrive/MovieCertifications_JSON_output\"\n",
    "df = list()\n",
    "for each in os.listdir(folder):\n",
    "  with open(folder + \"/\" + each) as fp:\n",
    "      if each.endswith('.json') and each != 'consolidated.json':\n",
    "        print(each)\n",
    "        data1 = json.load(fp)\n",
    "        df.extend(data1)\n",
    "\n",
    "with open(folder + \"/\" + 'consolidated.json', 'w') as output_file:\n",
    "    json.dump(df, output_file)\n",
    "\n",
    "df = pd.read_json(folder + \"/\" + 'consolidated.json')\n",
    "df.head(10)\n",
    "\n",
    "print(df.shape[0])"
   ]
  },
  {
   "cell_type": "markdown",
   "metadata": {
    "id": "xO-i438TzQvC"
   },
   "source": [
    "Export consolidated.json into consolidated.xlsx"
   ]
  },
  {
   "cell_type": "code",
   "execution_count": null,
   "metadata": {
    "id": "s8KhRPdFjkVw"
   },
   "outputs": [],
   "source": [
    "consolidated_df = pd.read_json(folder + \"/\" + 'consolidated.json')"
   ]
  },
  {
   "cell_type": "markdown",
   "metadata": {
    "id": "FaxmYWfpizhN"
   },
   "source": [
    "How much is remaining?"
   ]
  },
  {
   "cell_type": "code",
   "execution_count": null,
   "metadata": {
    "id": "3NJ7X5KPi4YS"
   },
   "outputs": [],
   "source": [
    "import json\n",
    "import os\n",
    "import re\n",
    "\n",
    "import pandas as pd\n",
    "from pandas import ExcelWriter\n",
    "\n",
    "folder = \"/content/drive/MyDrive/MovieCertifications_JSON_output\"\n",
    "df = list()\n",
    "all_number_ranges = list()\n",
    "\n",
    "pattern = \"movies-[\\(]*(\\d+).*-[\\(]*(\\d+).*\\.json\"\n",
    "for each in os.listdir(folder):\n",
    "  if not each.lower().startswith('consolidate'):\n",
    "    range = [int(number) for each in re.findall(pattern, each) for number in each]\n",
    "  all_number_ranges.append(range)\n",
    "\n",
    "all_number_ranges.sort(key = lambda x: x[0])\n",
    "all_number_ranges_df = pd.DataFrame(all_number_ranges,columns=['start','end'])\n",
    "\n",
    "with ExcelWriter(folder + \"/\" + 'consolidated.xlsx') as writer:\n",
    "  consolidated_df.to_excel(writer, sheet_name='consolidated')\n",
    "  all_number_ranges_df.to_excel(writer,sheet_name='all_ranges')"
   ]
  }
 ],
 "metadata": {
  "colab": {
   "collapsed_sections": [],
   "name": "Consolidate.ipynb",
   "provenance": []
  },
  "kernelspec": {
   "display_name": "Python 3",
   "language": "python",
   "name": "python3"
  },
  "language_info": {
   "codemirror_mode": {
    "name": "ipython",
    "version": 3
   },
   "file_extension": ".py",
   "mimetype": "text/x-python",
   "name": "python",
   "nbconvert_exporter": "python",
   "pygments_lexer": "ipython3",
   "version": "3.7.4"
  }
 },
 "nbformat": 4,
 "nbformat_minor": 1
}
