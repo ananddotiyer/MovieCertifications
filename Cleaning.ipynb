{
 "cells": [
  {
   "cell_type": "code",
   "execution_count": 1,
   "id": "cba75ead",
   "metadata": {},
   "outputs": [
    {
     "name": "stdout",
     "output_type": "stream",
     "text": [
      "398310\n"
     ]
    }
   ],
   "source": [
    "import json\n",
    "import os\n",
    "import pandas as pd\n",
    "import pandas_profiling\n",
    "\n",
    "\n",
    "df = pd.read_json('consolidated.json')\n",
    "df.head(10)\n",
    "print(df.shape[0])"
   ]
  },
  {
   "cell_type": "code",
   "execution_count": 2,
   "id": "ad24001f",
   "metadata": {},
   "outputs": [],
   "source": [
    "df = df.drop(df.columns[[11,12,17,18,19]], axis = 1) #getting rid of columns with na or unique values\n",
    "col_lis_2 = [0,1,11,12,13,14]\n",
    "col_lis_2.extend(list(range(6,11)))\n"
   ]
  },
  {
   "cell_type": "code",
   "execution_count": 3,
   "id": "f2238415",
   "metadata": {},
   "outputs": [
    {
     "name": "stdout",
     "output_type": "stream",
     "text": [
      "Index(['movie_id', 'lang_id', 'Movie Name :', 'Movie Language :',\n",
      "       'Movie Category :', 'Certified by Regional Office ', 'Certificate No.',\n",
      "       'Certificate Date', 'Certified Length', 'Name of Producer',\n",
      "       'Name of Applicant'],\n",
      "      dtype='object')\n",
      "Index(['movie_id', 'lang_id', 'Movie Name', 'Movie Language', 'Movie Category',\n",
      "       'Certified by Regional Office', 'Certificate No.', 'Certificate Date',\n",
      "       'Certified Length', 'Name of Producer', 'Name of Applicant'],\n",
      "      dtype='object')\n"
     ]
    }
   ],
   "source": [
    "df1 = df.iloc[:, list(range(0,11))]\n",
    "df2 = df.iloc[:, col_lis_2]\n",
    "print(df1.columns, df2.columns, sep = \"\\n\")"
   ]
  },
  {
   "cell_type": "code",
   "execution_count": 4,
   "id": "0a852916",
   "metadata": {},
   "outputs": [
    {
     "name": "stdout",
     "output_type": "stream",
     "text": [
      "(354743, 11)\n",
      "(39920, 11)\n"
     ]
    },
    {
     "name": "stderr",
     "output_type": "stream",
     "text": [
      "C:\\ProgramData\\Anaconda3\\lib\\site-packages\\pandas\\core\\frame.py:4441: SettingWithCopyWarning: \n",
      "A value is trying to be set on a copy of a slice from a DataFrame\n",
      "\n",
      "See the caveats in the documentation: https://pandas.pydata.org/pandas-docs/stable/user_guide/indexing.html#returning-a-view-versus-a-copy\n",
      "  return super().rename(\n"
     ]
    }
   ],
   "source": [
    "df1_final = df1[~df[\"Movie Name :\"].isna()]\n",
    "df2_final = df2[~df[\"Movie Name\"].isna()]\n",
    "df1_final.rename(columns = {\"Movie Name :\":\"Movie Name\",\"Movie Language :\":\"Movie Language\",\"Movie Category :\"\n",
    "                           : \"Movie Category\", \"Certified by Regional Office \":\"Certified by Regional Office\"}, inplace = True)\n",
    "print(df1_final.shape, df2_final.shape, sep = \"\\n\")"
   ]
  },
  {
   "cell_type": "code",
   "execution_count": 5,
   "id": "4bedc10a",
   "metadata": {
    "scrolled": true
   },
   "outputs": [
    {
     "data": {
      "text/html": [
       "<div>\n",
       "<style scoped>\n",
       "    .dataframe tbody tr th:only-of-type {\n",
       "        vertical-align: middle;\n",
       "    }\n",
       "\n",
       "    .dataframe tbody tr th {\n",
       "        vertical-align: top;\n",
       "    }\n",
       "\n",
       "    .dataframe thead th {\n",
       "        text-align: right;\n",
       "    }\n",
       "</style>\n",
       "<table border=\"1\" class=\"dataframe\">\n",
       "  <thead>\n",
       "    <tr style=\"text-align: right;\">\n",
       "      <th></th>\n",
       "      <th>movie_id</th>\n",
       "      <th>lang_id</th>\n",
       "      <th>Movie Name</th>\n",
       "      <th>Movie Language</th>\n",
       "      <th>Movie Category</th>\n",
       "      <th>Certified by Regional Office</th>\n",
       "      <th>Certificate No.</th>\n",
       "      <th>Certificate Date</th>\n",
       "      <th>Certified Length</th>\n",
       "      <th>Name of Producer</th>\n",
       "      <th>Name of Applicant</th>\n",
       "    </tr>\n",
       "  </thead>\n",
       "  <tbody>\n",
       "    <tr>\n",
       "      <th>0</th>\n",
       "      <td>360001</td>\n",
       "      <td>61.0</td>\n",
       "      <td>CHALLENGE OF SAFETY</td>\n",
       "      <td>ENGLISH</td>\n",
       "      <td>U (Unrestricted Public Exhibition)</td>\n",
       "      <td>MUMBAI</td>\n",
       "      <td>U-3450-MUM</td>\n",
       "      <td>04-08-1984</td>\n",
       "      <td>0 Mts</td>\n",
       "      <td>ALLIED SERVICES (USA)</td>\n",
       "      <td>N.E. &amp; I. F. LTD.</td>\n",
       "    </tr>\n",
       "    <tr>\n",
       "      <th>1</th>\n",
       "      <td>360002</td>\n",
       "      <td>61.0</td>\n",
       "      <td>FROR A  RAING DAY</td>\n",
       "      <td>ENGLISH</td>\n",
       "      <td>U (Unrestricted Public Exhibition)</td>\n",
       "      <td>MUMBAI</td>\n",
       "      <td>U-34500-MUM</td>\n",
       "      <td>13-02-1961</td>\n",
       "      <td>0 Mts</td>\n",
       "      <td>FILMS DIVISION GOVT OF INDIA</td>\n",
       "      <td>FILMS DIVISION GOVT OF INDIA</td>\n",
       "    </tr>\n",
       "    <tr>\n",
       "      <th>2</th>\n",
       "      <td>360003</td>\n",
       "      <td>61.0</td>\n",
       "      <td>NEW PERSPECTIONES</td>\n",
       "      <td>ENGLISH</td>\n",
       "      <td>U (Unrestricted Public Exhibition)</td>\n",
       "      <td>MUMBAI</td>\n",
       "      <td>U-34501-MUM</td>\n",
       "      <td>03-01-1962</td>\n",
       "      <td>0 Mts</td>\n",
       "      <td>GOVT. OF INDIA</td>\n",
       "      <td>FILMS DIOINOR</td>\n",
       "    </tr>\n",
       "    <tr>\n",
       "      <th>3</th>\n",
       "      <td>360004</td>\n",
       "      <td>51.0</td>\n",
       "      <td>BAIKOCHA BHAU</td>\n",
       "      <td>MARATHI</td>\n",
       "      <td>U (Unrestricted Public Exhibition)</td>\n",
       "      <td>MUMBAI</td>\n",
       "      <td>U-34502-MUM</td>\n",
       "      <td>30-12-1961</td>\n",
       "      <td>0 Mts</td>\n",
       "      <td>MADHARO SHINDE</td>\n",
       "      <td>MADHARO SHINDE</td>\n",
       "    </tr>\n",
       "    <tr>\n",
       "      <th>4</th>\n",
       "      <td>360005</td>\n",
       "      <td>61.0</td>\n",
       "      <td>INVITATION TO THE SMARTNESS</td>\n",
       "      <td>ENGLISH</td>\n",
       "      <td>U (Unrestricted Public Exhibition)</td>\n",
       "      <td>MUMBAI</td>\n",
       "      <td>U-34503-MUM</td>\n",
       "      <td>15-01-1962</td>\n",
       "      <td>0 Mts</td>\n",
       "      <td>NOT READABLE</td>\n",
       "      <td>NOT READABLE</td>\n",
       "    </tr>\n",
       "    <tr>\n",
       "      <th>...</th>\n",
       "      <td>...</td>\n",
       "      <td>...</td>\n",
       "      <td>...</td>\n",
       "      <td>...</td>\n",
       "      <td>...</td>\n",
       "      <td>...</td>\n",
       "      <td>...</td>\n",
       "      <td>...</td>\n",
       "      <td>...</td>\n",
       "      <td>...</td>\n",
       "      <td>...</td>\n",
       "    </tr>\n",
       "    <tr>\n",
       "      <th>355205</th>\n",
       "      <td>19997</td>\n",
       "      <td>NaN</td>\n",
       "      <td>'HOT MASHUKA - A DANGEROUS LOVER'</td>\n",
       "      <td>HINDI</td>\n",
       "      <td>A (Restricted to adults)</td>\n",
       "      <td>MUMBAI</td>\n",
       "      <td>CIL/3/62/2005-MUM</td>\n",
       "      <td>13-06-2005</td>\n",
       "      <td>2593.79 Mts</td>\n",
       "      <td>AMAN MOVIES INTERNATIONAL MUMBAI</td>\n",
       "      <td>AMAN MOVIES INTERNATIONAL MUMBAI</td>\n",
       "    </tr>\n",
       "    <tr>\n",
       "      <th>355206</th>\n",
       "      <td>19998</td>\n",
       "      <td>NaN</td>\n",
       "      <td>'TOPLESS'</td>\n",
       "      <td>HINDI</td>\n",
       "      <td>A (Restricted to adults)</td>\n",
       "      <td>MUMBAI</td>\n",
       "      <td>CIL/3/63/2005-MUM</td>\n",
       "      <td>16-06-2005</td>\n",
       "      <td>3221.54 Mts</td>\n",
       "      <td>B.S.SHAD,AMIT BRAR ARTS</td>\n",
       "      <td>B.S.SHAD,AMIT BRAR ARTS</td>\n",
       "    </tr>\n",
       "    <tr>\n",
       "      <th>355207</th>\n",
       "      <td>19999</td>\n",
       "      <td>NaN</td>\n",
       "      <td>'PREM MILAN'</td>\n",
       "      <td>HINDI</td>\n",
       "      <td>A (Restricted to adults)</td>\n",
       "      <td>MUMBAI</td>\n",
       "      <td>CIL/3/64/2005-MUM</td>\n",
       "      <td>17-06-2005</td>\n",
       "      <td>2513.04 Mts</td>\n",
       "      <td>MAX FILMS MUMBAI</td>\n",
       "      <td>MAX FILMS MUMBAI</td>\n",
       "    </tr>\n",
       "    <tr>\n",
       "      <th>355208</th>\n",
       "      <td>20000</td>\n",
       "      <td>NaN</td>\n",
       "      <td>MAZAA MAZAA</td>\n",
       "      <td>HINDI</td>\n",
       "      <td>A (Restricted to adults)</td>\n",
       "      <td>MUMBAI</td>\n",
       "      <td>CIL/3/65/2005-MUM</td>\n",
       "      <td>21-06-2005</td>\n",
       "      <td>2812.64 Mts</td>\n",
       "      <td>SHAGUN FILMS CREATIONS MUMBAI</td>\n",
       "      <td>SHAGUN FILMS CREATIONS MUMBAI</td>\n",
       "    </tr>\n",
       "    <tr>\n",
       "      <th>355209</th>\n",
       "      <td>20001</td>\n",
       "      <td>NaN</td>\n",
       "      <td>'MASHUKA'</td>\n",
       "      <td>HINDI</td>\n",
       "      <td>A (Restricted to adults)</td>\n",
       "      <td>MUMBAI</td>\n",
       "      <td>CIL/3/66/2005-MUM</td>\n",
       "      <td>27-06-2005</td>\n",
       "      <td>3058.82 Mts</td>\n",
       "      <td>LODI FILMS INTERNATIONAL</td>\n",
       "      <td>LODI FILMS INTERNATIONAL</td>\n",
       "    </tr>\n",
       "  </tbody>\n",
       "</table>\n",
       "<p>394663 rows × 11 columns</p>\n",
       "</div>"
      ],
      "text/plain": [
       "        movie_id  lang_id                         Movie Name Movie Language  \\\n",
       "0         360001     61.0                CHALLENGE OF SAFETY        ENGLISH   \n",
       "1         360002     61.0                 FROR A  RAING DAY         ENGLISH   \n",
       "2         360003     61.0                  NEW PERSPECTIONES        ENGLISH   \n",
       "3         360004     51.0                      BAIKOCHA BHAU        MARATHI   \n",
       "4         360005     61.0        INVITATION TO THE SMARTNESS        ENGLISH   \n",
       "...          ...      ...                                ...            ...   \n",
       "355205     19997      NaN  'HOT MASHUKA - A DANGEROUS LOVER'          HINDI   \n",
       "355206     19998      NaN                          'TOPLESS'          HINDI   \n",
       "355207     19999      NaN                       'PREM MILAN'          HINDI   \n",
       "355208     20000      NaN                        MAZAA MAZAA          HINDI   \n",
       "355209     20001      NaN                          'MASHUKA'          HINDI   \n",
       "\n",
       "                            Movie Category Certified by Regional Office  \\\n",
       "0       U (Unrestricted Public Exhibition)                       MUMBAI   \n",
       "1       U (Unrestricted Public Exhibition)                       MUMBAI   \n",
       "2       U (Unrestricted Public Exhibition)                       MUMBAI   \n",
       "3       U (Unrestricted Public Exhibition)                       MUMBAI   \n",
       "4       U (Unrestricted Public Exhibition)                       MUMBAI   \n",
       "...                                    ...                          ...   \n",
       "355205            A (Restricted to adults)                       MUMBAI   \n",
       "355206            A (Restricted to adults)                       MUMBAI   \n",
       "355207            A (Restricted to adults)                       MUMBAI   \n",
       "355208            A (Restricted to adults)                       MUMBAI   \n",
       "355209            A (Restricted to adults)                       MUMBAI   \n",
       "\n",
       "          Certificate No. Certificate Date Certified Length  \\\n",
       "0              U-3450-MUM       04-08-1984            0 Mts   \n",
       "1             U-34500-MUM       13-02-1961            0 Mts   \n",
       "2             U-34501-MUM       03-01-1962            0 Mts   \n",
       "3             U-34502-MUM       30-12-1961            0 Mts   \n",
       "4             U-34503-MUM       15-01-1962            0 Mts   \n",
       "...                   ...              ...              ...   \n",
       "355205  CIL/3/62/2005-MUM       13-06-2005      2593.79 Mts   \n",
       "355206  CIL/3/63/2005-MUM       16-06-2005      3221.54 Mts   \n",
       "355207  CIL/3/64/2005-MUM       17-06-2005      2513.04 Mts   \n",
       "355208  CIL/3/65/2005-MUM       21-06-2005      2812.64 Mts   \n",
       "355209  CIL/3/66/2005-MUM       27-06-2005      3058.82 Mts   \n",
       "\n",
       "                        Name of Producer                 Name of Applicant  \n",
       "0                  ALLIED SERVICES (USA)                 N.E. & I. F. LTD.  \n",
       "1           FILMS DIVISION GOVT OF INDIA      FILMS DIVISION GOVT OF INDIA  \n",
       "2                         GOVT. OF INDIA                     FILMS DIOINOR  \n",
       "3                         MADHARO SHINDE                    MADHARO SHINDE  \n",
       "4                          NOT READABLE                      NOT READABLE   \n",
       "...                                  ...                               ...  \n",
       "355205  AMAN MOVIES INTERNATIONAL MUMBAI  AMAN MOVIES INTERNATIONAL MUMBAI  \n",
       "355206           B.S.SHAD,AMIT BRAR ARTS           B.S.SHAD,AMIT BRAR ARTS  \n",
       "355207                  MAX FILMS MUMBAI                  MAX FILMS MUMBAI  \n",
       "355208     SHAGUN FILMS CREATIONS MUMBAI     SHAGUN FILMS CREATIONS MUMBAI  \n",
       "355209          LODI FILMS INTERNATIONAL          LODI FILMS INTERNATIONAL  \n",
       "\n",
       "[394663 rows x 11 columns]"
      ]
     },
     "execution_count": 5,
     "metadata": {},
     "output_type": "execute_result"
    }
   ],
   "source": [
    "df_final = df1_final\n",
    "df_final = df_final.append(df2_final)\n",
    "df_final\n"
   ]
  },
  {
   "cell_type": "code",
   "execution_count": 43,
   "id": "7f59b403",
   "metadata": {},
   "outputs": [
    {
     "data": {
      "application/vnd.jupyter.widget-view+json": {
       "model_id": "07f4abc5c6c74f24a50a644bab10926c",
       "version_major": 2,
       "version_minor": 0
      },
      "text/plain": [
       "Summarize dataset:   0%|          | 0/5 [00:00<?, ?it/s]"
      ]
     },
     "metadata": {},
     "output_type": "display_data"
    },
    {
     "data": {
      "application/vnd.jupyter.widget-view+json": {
       "model_id": "6b19b8cb24c64f13adcc7989ec38d595",
       "version_major": 2,
       "version_minor": 0
      },
      "text/plain": [
       "Generate report structure:   0%|          | 0/1 [00:00<?, ?it/s]"
      ]
     },
     "metadata": {},
     "output_type": "display_data"
    },
    {
     "data": {
      "application/vnd.jupyter.widget-view+json": {
       "model_id": "c53d0d7a6bcd4f528c5f3dfe2372e05a",
       "version_major": 2,
       "version_minor": 0
      },
      "text/plain": [
       "Render HTML:   0%|          | 0/1 [00:00<?, ?it/s]"
      ]
     },
     "metadata": {},
     "output_type": "display_data"
    },
    {
     "data": {
      "application/vnd.jupyter.widget-view+json": {
       "model_id": "b2794f594a764c32a66d150b3d405a00",
       "version_major": 2,
       "version_minor": 0
      },
      "text/plain": [
       "Export report to file:   0%|          | 0/1 [00:00<?, ?it/s]"
      ]
     },
     "metadata": {},
     "output_type": "display_data"
    },
    {
     "data": {
      "application/vnd.jupyter.widget-view+json": {
       "model_id": "4bdd0acb5e07456d9699d397224ca8c8",
       "version_major": 2,
       "version_minor": 0
      },
      "text/plain": [
       "Summarize dataset:   0%|          | 0/5 [00:00<?, ?it/s]"
      ]
     },
     "metadata": {},
     "output_type": "display_data"
    },
    {
     "name": "stderr",
     "output_type": "stream",
     "text": [
      "C:\\Users\\suhaa\\AppData\\Roaming\\Python\\Python38\\site-packages\\pandas_profiling\\model\\correlations.py:120: RuntimeWarning: invalid value encountered in greater_equal\n",
      "  bool_index = abs(correlation_matrix.values) >= threshold\n"
     ]
    },
    {
     "data": {
      "application/vnd.jupyter.widget-view+json": {
       "model_id": "387589b5a9ba463da90230cced3576d8",
       "version_major": 2,
       "version_minor": 0
      },
      "text/plain": [
       "Generate report structure:   0%|          | 0/1 [00:00<?, ?it/s]"
      ]
     },
     "metadata": {},
     "output_type": "display_data"
    },
    {
     "data": {
      "application/vnd.jupyter.widget-view+json": {
       "model_id": "71b674b330734231a4a0f30b1ec1d6e7",
       "version_major": 2,
       "version_minor": 0
      },
      "text/plain": [
       "Render HTML:   0%|          | 0/1 [00:00<?, ?it/s]"
      ]
     },
     "metadata": {},
     "output_type": "display_data"
    },
    {
     "data": {
      "application/vnd.jupyter.widget-view+json": {
       "model_id": "9d7d5251e87a4450bcbf08f2c8196386",
       "version_major": 2,
       "version_minor": 0
      },
      "text/plain": [
       "Export report to file:   0%|          | 0/1 [00:00<?, ?it/s]"
      ]
     },
     "metadata": {},
     "output_type": "display_data"
    }
   ],
   "source": [
    "#to check if the movie names and other repetitive are mutually exclusive and collectively exhaustive in the 2 columns\n",
    "profile = pandas_profiling.ProfileReport(df[~df[\"Movie Name :\"].isna()])    \n",
    "profile.to_file(\"report_1.html\")\n",
    "\n",
    "profile = pandas_profiling.ProfileReport(df[~df[\"Movie Name\"].isna()])\n",
    "profile.to_file(\"report_2.html\")"
   ]
  },
  {
   "cell_type": "code",
   "execution_count": null,
   "id": "85e8878d",
   "metadata": {},
   "outputs": [],
   "source": []
  }
 ],
 "metadata": {
  "kernelspec": {
   "display_name": "Python 3",
   "language": "python",
   "name": "python3"
  },
  "language_info": {
   "codemirror_mode": {
    "name": "ipython",
    "version": 3
   },
   "file_extension": ".py",
   "mimetype": "text/x-python",
   "name": "python",
   "nbconvert_exporter": "python",
   "pygments_lexer": "ipython3",
   "version": "3.8.8"
  }
 },
 "nbformat": 4,
 "nbformat_minor": 5
}
