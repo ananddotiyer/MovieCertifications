{
 "cells": [
  {
   "cell_type": "code",
   "execution_count": 1,
   "id": "cba75ead",
   "metadata": {},
   "outputs": [
    {
     "name": "stdout",
     "output_type": "stream",
     "text": [
      "398310\n"
     ]
    }
   ],
   "source": [
    "import json\n",
    "import os\n",
    "import pandas as pd\n",
    "import pandas_profiling\n",
    "\n",
    "\n",
    "df = pd.read_json('consolidated.json')\n",
    "df.head(10)\n",
    "print(df.shape[0])"
   ]
  },
  {
   "cell_type": "code",
   "execution_count": 2,
   "id": "ad24001f",
   "metadata": {},
   "outputs": [],
   "source": [
    "df = df.drop(df.columns[[11,12,17,18,19]], axis = 1) #getting rid of columns with na or unique values\n",
    "col_lis_2 = [0,1,11,12,13,14]\n",
    "col_lis_2.extend(list(range(6,11)))\n"
   ]
  },
  {
   "cell_type": "code",
   "execution_count": 3,
   "id": "f2238415",
   "metadata": {},
   "outputs": [
    {
     "name": "stdout",
     "output_type": "stream",
     "text": [
      "Index(['movie_id', 'lang_id', 'Movie Name :', 'Movie Language :',\n",
      "       'Movie Category :', 'Certified by Regional Office ', 'Certificate No.',\n",
      "       'Certificate Date', 'Certified Length', 'Name of Producer',\n",
      "       'Name of Applicant'],\n",
      "      dtype='object')\n",
      "Index(['movie_id', 'lang_id', 'Movie Name', 'Movie Language', 'Movie Category',\n",
      "       'Certified by Regional Office', 'Certificate No.', 'Certificate Date',\n",
      "       'Certified Length', 'Name of Producer', 'Name of Applicant'],\n",
      "      dtype='object')\n"
     ]
    }
   ],
   "source": [
    "df1 = df.iloc[:, list(range(0,11))]\n",
    "df2 = df.iloc[:, col_lis_2]\n",
    "print(df1.columns, df2.columns, sep = \"\\n\")"
   ]
  },
  {
   "cell_type": "code",
   "execution_count": 4,
   "id": "0a852916",
   "metadata": {},
   "outputs": [
    {
     "name": "stdout",
     "output_type": "stream",
     "text": [
      "(354743, 11)\n",
      "(39920, 11)\n"
     ]
    },
    {
     "name": "stderr",
     "output_type": "stream",
     "text": [
      "C:\\ProgramData\\Anaconda3\\lib\\site-packages\\pandas\\core\\frame.py:4441: SettingWithCopyWarning: \n",
      "A value is trying to be set on a copy of a slice from a DataFrame\n",
      "\n",
      "See the caveats in the documentation: https://pandas.pydata.org/pandas-docs/stable/user_guide/indexing.html#returning-a-view-versus-a-copy\n",
      "  return super().rename(\n"
     ]
    }
   ],
   "source": [
    "df1_final = df1[~df[\"Movie Name :\"].isna()]\n",
    "df2_final = df2[~df[\"Movie Name\"].isna()]\n",
    "df1_final.rename(columns = {\"Movie Name :\":\"Movie Name\",\"Movie Language :\":\"Movie Language\",\"Movie Category :\"\n",
    "                           : \"Movie Category\", \"Certified by Regional Office \":\"Certified by Regional Office\"}, inplace = True)\n",
    "print(df1_final.shape, df2_final.shape, sep = \"\\n\")"
   ]
  },
  {
   "cell_type": "code",
   "execution_count": 7,
   "id": "4bedc10a",
   "metadata": {
    "scrolled": true
   },
   "outputs": [],
   "source": [
    "df_final = df1_final\n",
    "df_final = df_final.append(df2_final)\n",
    "df_final.to_csv(\"consolidated.csv\")\n"
   ]
  },
  {
   "cell_type": "code",
   "execution_count": 6,
   "id": "7f59b403",
   "metadata": {},
   "outputs": [
    {
     "data": {
      "application/vnd.jupyter.widget-view+json": {
       "model_id": "095e6d1c4c4c4adda37212cc59f35d24",
       "version_major": 2,
       "version_minor": 0
      },
      "text/plain": [
       "Summarize dataset:   0%|          | 0/5 [00:00<?, ?it/s]"
      ]
     },
     "metadata": {},
     "output_type": "display_data"
    },
    {
     "data": {
      "application/vnd.jupyter.widget-view+json": {
       "model_id": "7154616952064135abf281bab9430b19",
       "version_major": 2,
       "version_minor": 0
      },
      "text/plain": [
       "Generate report structure:   0%|          | 0/1 [00:00<?, ?it/s]"
      ]
     },
     "metadata": {},
     "output_type": "display_data"
    },
    {
     "data": {
      "application/vnd.jupyter.widget-view+json": {
       "model_id": "64b25653c4a64912857b87a293c7929e",
       "version_major": 2,
       "version_minor": 0
      },
      "text/plain": [
       "Render HTML:   0%|          | 0/1 [00:00<?, ?it/s]"
      ]
     },
     "metadata": {},
     "output_type": "display_data"
    },
    {
     "data": {
      "application/vnd.jupyter.widget-view+json": {
       "model_id": "5580a5433076486d811ba3fc62d267c9",
       "version_major": 2,
       "version_minor": 0
      },
      "text/plain": [
       "Export report to file:   0%|          | 0/1 [00:00<?, ?it/s]"
      ]
     },
     "metadata": {},
     "output_type": "display_data"
    },
    {
     "data": {
      "application/vnd.jupyter.widget-view+json": {
       "model_id": "aacec03fe5aa4a0db6ffa63b4edcc29a",
       "version_major": 2,
       "version_minor": 0
      },
      "text/plain": [
       "Summarize dataset:   0%|          | 0/5 [00:00<?, ?it/s]"
      ]
     },
     "metadata": {},
     "output_type": "display_data"
    },
    {
     "name": "stderr",
     "output_type": "stream",
     "text": [
      "C:\\Users\\suhaa\\AppData\\Roaming\\Python\\Python38\\site-packages\\pandas_profiling\\model\\correlations.py:120: RuntimeWarning: invalid value encountered in greater_equal\n",
      "  bool_index = abs(correlation_matrix.values) >= threshold\n"
     ]
    },
    {
     "data": {
      "application/vnd.jupyter.widget-view+json": {
       "model_id": "ea90a396044e473180a1263440c3d2b8",
       "version_major": 2,
       "version_minor": 0
      },
      "text/plain": [
       "Generate report structure:   0%|          | 0/1 [00:00<?, ?it/s]"
      ]
     },
     "metadata": {},
     "output_type": "display_data"
    },
    {
     "data": {
      "application/vnd.jupyter.widget-view+json": {
       "model_id": "cd4c2f1d5f6b430ba775cec021246e28",
       "version_major": 2,
       "version_minor": 0
      },
      "text/plain": [
       "Render HTML:   0%|          | 0/1 [00:00<?, ?it/s]"
      ]
     },
     "metadata": {},
     "output_type": "display_data"
    },
    {
     "data": {
      "application/vnd.jupyter.widget-view+json": {
       "model_id": "f24ce8bad9e74d81b6117f57b351ee9b",
       "version_major": 2,
       "version_minor": 0
      },
      "text/plain": [
       "Export report to file:   0%|          | 0/1 [00:00<?, ?it/s]"
      ]
     },
     "metadata": {},
     "output_type": "display_data"
    }
   ],
   "source": [
    "#to check if the movie names and other repetitive are mutually exclusive and collectively exhaustive in the 2 columns\n",
    "profile = pandas_profiling.ProfileReport(df[~df[\"Movie Name :\"].isna()])   #If it throws a dependency error, try changing your python environment(moving to .py files also work). \n",
    "profile.to_file(\"report_1.html\")\n",
    "\n",
    "profile = pandas_profiling.ProfileReport(df[~df[\"Movie Name\"].isna()])\n",
    "profile.to_file(\"report_2.html\")"
   ]
  },
  {
   "cell_type": "code",
   "execution_count": null,
   "id": "85e8878d",
   "metadata": {},
   "outputs": [],
   "source": []
  }
 ],
 "metadata": {
  "kernelspec": {
   "display_name": "Python 3",
   "language": "python",
   "name": "python3"
  },
  "language_info": {
   "codemirror_mode": {
    "name": "ipython",
    "version": 3
   },
   "file_extension": ".py",
   "mimetype": "text/x-python",
   "name": "python",
   "nbconvert_exporter": "python",
   "pygments_lexer": "ipython3",
   "version": "3.8.8"
  }
 },
 "nbformat": 4,
 "nbformat_minor": 5
}
