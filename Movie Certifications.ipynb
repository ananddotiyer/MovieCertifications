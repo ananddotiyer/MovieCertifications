{
 "cells": [
  {
   "cell_type": "code",
   "execution_count": null,
   "metadata": {},
   "outputs": [],
   "source": [
    "import requests\n",
    "from bs4 import BeautifulSoup"
   ]
  },
  {
   "cell_type": "code",
   "execution_count": null,
   "metadata": {},
   "outputs": [],
   "source": [
    "with open('movies.csv') as movies:\n",
    "    movies.readline()  #ignore the header\n",
    "    movies_list = [movie.strip().split(',') for movie in movies.readlines()]"
   ]
  },
  {
   "cell_type": "code",
   "execution_count": null,
   "metadata": {},
   "outputs": [],
   "source": [
    "movie_idx_from = int(input('Enter the movie index from where you want to scrape:')) - 1\n",
    "movie_idx_to = int(input('Enter the movie index to where you want to scrape:'))"
   ]
  },
  {
   "cell_type": "code",
   "execution_count": null,
   "metadata": {},
   "outputs": [],
   "source": [
    "all_movies = []\n",
    "idx = movie_idx_from + 1\n",
    "for movie_id, lang_id in movies_list[movie_idx_from:movie_idx_to]:\n",
    "    print(f\"{idx}. movie_id: {movie_id} lang_id: {lang_id}\")\n",
    "    search_string = f\"https://www.cbfcindia.gov.in/main/search-result?movie_id={movie_id}&lang_id={lang_id}\"\n",
    "    response = requests.get(search_string)\n",
    "    try: \n",
    "        response.raise_for_status()\n",
    "    except requests.exceptions.HTTPError as e: \n",
    "        print (e)\n",
    "    \n",
    "    soup = BeautifulSoup(response.content)\n",
    "\n",
    "    movie_details = [each.text for each in soup.find_all('td')[1:]]\n",
    "    keys = ['Movie No.'] + movie_details[::2]\n",
    "    values = [idx] + movie_details[1::2]\n",
    "    movie_dict = dict(zip(keys, values))    \n",
    "    all_movies.append(movie_dict)\n",
    "    idx += 1"
   ]
  },
  {
   "cell_type": "code",
   "execution_count": null,
   "metadata": {},
   "outputs": [],
   "source": [
    "import pandas as pd\n",
    "all_movies_df = pd.DataFrame(all_movies)\n",
    "all_movies_df.head()\n",
    "all_movies_df.to_csv(f'movies_{movie_idx_from + 1}_{movie_idx_to}.csv', index=False)"
   ]
  }
 ],
 "metadata": {
  "kernelspec": {
   "display_name": "Python 3",
   "language": "python",
   "name": "python3"
  },
  "language_info": {
   "codemirror_mode": {
    "name": "ipython",
    "version": 3
   },
   "file_extension": ".py",
   "mimetype": "text/x-python",
   "name": "python",
   "nbconvert_exporter": "python",
   "pygments_lexer": "ipython3",
   "version": "3.7.4"
  }
 },
 "nbformat": 4,
 "nbformat_minor": 2
}
