{
 "cells": [
  {
   "cell_type": "code",
   "execution_count": null,
   "metadata": {},
   "outputs": [],
   "source": [
    "import requests\n",
    "from bs4 import BeautifulSoup"
   ]
  },
  {
   "cell_type": "code",
   "execution_count": null,
   "metadata": {},
   "outputs": [],
   "source": [
    "response = requests.get(\"https://www.cbfcindia.gov.in/main/search_page_call.php?title=&lang1=&dt1=&dt2=\")"
   ]
  },
  {
   "cell_type": "code",
   "execution_count": null,
   "metadata": {},
   "outputs": [],
   "source": [
    "movies_raw = {each['m_id']: each['l_id'] for each in response.json()[\"aaData\"]}"
   ]
  },
  {
   "cell_type": "code",
   "execution_count": null,
   "metadata": {},
   "outputs": [],
   "source": [
    "all_movies = []\n",
    "idx = 1\n",
    "for movie_id, lang_id in movies_raw.items():\n",
    "    print(f\"{idx}. movie_id: {movie_id} lang_id: {lang_id}\")\n",
    "    search_string = f\"https://www.cbfcindia.gov.in/main/search-result?movie_id={movie_id}&lang_id={lang_id}\"\n",
    "    response = requests.get(search_string)\n",
    "    soup = BeautifulSoup(response.content)\n",
    "\n",
    "    movie_details = [each.text for each in soup.find_all('td')[1:]]\n",
    "    keys = movie_details[::2]\n",
    "    values = movie_details[1::2]\n",
    "    movie_dict = dict(zip(keys, values))    \n",
    "    all_movies.append(movie_dict)\n",
    "    idx += 1"
   ]
  },
  {
   "cell_type": "code",
   "execution_count": null,
   "metadata": {},
   "outputs": [],
   "source": [
    "import pandas as pd\n",
    "all_movies_df = pd.DataFrame(all_movies)\n",
    "all_movies_df.head()"
   ]
  }
 ],
 "metadata": {
  "kernelspec": {
   "display_name": "Python 3",
   "language": "python",
   "name": "python3"
  },
  "language_info": {
   "codemirror_mode": {
    "name": "ipython",
    "version": 3
   },
   "file_extension": ".py",
   "mimetype": "text/x-python",
   "name": "python",
   "nbconvert_exporter": "python",
   "pygments_lexer": "ipython3",
   "version": "3.7.4"
  }
 },
 "nbformat": 4,
 "nbformat_minor": 2
}
