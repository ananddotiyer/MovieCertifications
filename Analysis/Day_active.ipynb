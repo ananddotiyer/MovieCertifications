{
 "cells": [
  {
   "cell_type": "code",
   "execution_count": 1,
   "id": "6858a1f1",
   "metadata": {},
   "outputs": [],
   "source": [
    "import pandas as pd\n",
    "import datetime\n",
    "import matplotlib.pyplot as plt\n",
    "import seaborn as sns"
   ]
  },
  {
   "cell_type": "code",
   "execution_count": 23,
   "id": "c2a1be05",
   "metadata": {},
   "outputs": [
    {
     "data": {
      "text/html": [
       "<div>\n",
       "<style scoped>\n",
       "    .dataframe tbody tr th:only-of-type {\n",
       "        vertical-align: middle;\n",
       "    }\n",
       "\n",
       "    .dataframe tbody tr th {\n",
       "        vertical-align: top;\n",
       "    }\n",
       "\n",
       "    .dataframe thead th {\n",
       "        text-align: right;\n",
       "    }\n",
       "</style>\n",
       "<table border=\"1\" class=\"dataframe\">\n",
       "  <thead>\n",
       "    <tr style=\"text-align: right;\">\n",
       "      <th></th>\n",
       "      <th>movie_id</th>\n",
       "      <th>name</th>\n",
       "      <th>lang</th>\n",
       "      <th>cert_no</th>\n",
       "      <th>cert_date</th>\n",
       "      <th>cert_length</th>\n",
       "      <th>producer</th>\n",
       "      <th>applicant</th>\n",
       "      <th>lang_id</th>\n",
       "      <th>movie_category</th>\n",
       "      <th>regional_office</th>\n",
       "    </tr>\n",
       "  </thead>\n",
       "  <tbody>\n",
       "    <tr>\n",
       "      <th>0</th>\n",
       "      <td>2</td>\n",
       "      <td>SUNA SANKHAALI</td>\n",
       "      <td>ORIYA</td>\n",
       "      <td>CIL/1/2/2004-CUT</td>\n",
       "      <td>16-01-2004</td>\n",
       "      <td>4907.6001 Mts</td>\n",
       "      <td>Shri Pradeep  Bhol. Cuttack</td>\n",
       "      <td>NIL</td>\n",
       "      <td>53</td>\n",
       "      <td>U (Unrestricted Public Exhibition)</td>\n",
       "      <td>CUTTACK</td>\n",
       "    </tr>\n",
       "    <tr>\n",
       "      <th>1</th>\n",
       "      <td>3</td>\n",
       "      <td>YE JUGARA KRUSHNA SUDAMA</td>\n",
       "      <td>ORIYA</td>\n",
       "      <td>CIL/1/1/2003-CUT</td>\n",
       "      <td>07-01-2003</td>\n",
       "      <td>5104.8901 Mts</td>\n",
       "      <td>Shri Binaya Nazik, M/s.Brajaraj Movies</td>\n",
       "      <td>NIL</td>\n",
       "      <td>53</td>\n",
       "      <td>U (Unrestricted Public Exhibition)</td>\n",
       "      <td>CUTTACK</td>\n",
       "    </tr>\n",
       "    <tr>\n",
       "      <th>2</th>\n",
       "      <td>4</td>\n",
       "      <td>MAYER SHAKTI</td>\n",
       "      <td>BENGALI</td>\n",
       "      <td>CIL/1/10/2003-CUT</td>\n",
       "      <td>12-08-2003</td>\n",
       "      <td>4495.8501 Mts</td>\n",
       "      <td>Shri BijoiKumar Kandoi</td>\n",
       "      <td>NIL</td>\n",
       "      <td>42</td>\n",
       "      <td>U (Unrestricted Public Exhibition)</td>\n",
       "      <td>CUTTACK</td>\n",
       "    </tr>\n",
       "    <tr>\n",
       "      <th>3</th>\n",
       "      <td>5</td>\n",
       "      <td>JE PANCHE PARA MANDA</td>\n",
       "      <td>ORIYA</td>\n",
       "      <td>CIL/1/12/2003-CUT</td>\n",
       "      <td>25-08-2003</td>\n",
       "      <td>5085.4399 Mts</td>\n",
       "      <td>Shri Niranjan Rana</td>\n",
       "      <td>NIL</td>\n",
       "      <td>53</td>\n",
       "      <td>U (Unrestricted Public Exhibition)</td>\n",
       "      <td>CUTTACK</td>\n",
       "    </tr>\n",
       "    <tr>\n",
       "      <th>4</th>\n",
       "      <td>6</td>\n",
       "      <td>MAYER MON</td>\n",
       "      <td>BENGALI</td>\n",
       "      <td>CIL/1/13/2003-CUT</td>\n",
       "      <td>30-08-2003</td>\n",
       "      <td>4805.2798 Mts</td>\n",
       "      <td>Shri Ratikanta Kanungo</td>\n",
       "      <td>NIL</td>\n",
       "      <td>42</td>\n",
       "      <td>U (Unrestricted Public Exhibition)</td>\n",
       "      <td>CUTTACK</td>\n",
       "    </tr>\n",
       "  </tbody>\n",
       "</table>\n",
       "</div>"
      ],
      "text/plain": [
       "   movie_id                      name     lang            cert_no   cert_date  \\\n",
       "0         2            SUNA SANKHAALI    ORIYA   CIL/1/2/2004-CUT  16-01-2004   \n",
       "1         3  YE JUGARA KRUSHNA SUDAMA    ORIYA   CIL/1/1/2003-CUT  07-01-2003   \n",
       "2         4              MAYER SHAKTI  BENGALI  CIL/1/10/2003-CUT  12-08-2003   \n",
       "3         5      JE PANCHE PARA MANDA    ORIYA  CIL/1/12/2003-CUT  25-08-2003   \n",
       "4         6                 MAYER MON  BENGALI  CIL/1/13/2003-CUT  30-08-2003   \n",
       "\n",
       "     cert_length                                producer applicant  lang_id  \\\n",
       "0  4907.6001 Mts             Shri Pradeep  Bhol. Cuttack       NIL       53   \n",
       "1  5104.8901 Mts  Shri Binaya Nazik, M/s.Brajaraj Movies       NIL       53   \n",
       "2  4495.8501 Mts                  Shri BijoiKumar Kandoi       NIL       42   \n",
       "3  5085.4399 Mts                      Shri Niranjan Rana       NIL       53   \n",
       "4  4805.2798 Mts                  Shri Ratikanta Kanungo       NIL       42   \n",
       "\n",
       "                       movie_category regional_office  \n",
       "0  U (Unrestricted Public Exhibition)         CUTTACK  \n",
       "1  U (Unrestricted Public Exhibition)         CUTTACK  \n",
       "2  U (Unrestricted Public Exhibition)         CUTTACK  \n",
       "3  U (Unrestricted Public Exhibition)         CUTTACK  \n",
       "4  U (Unrestricted Public Exhibition)         CUTTACK  "
      ]
     },
     "execution_count": 23,
     "metadata": {},
     "output_type": "execute_result"
    }
   ],
   "source": [
    "df = pd.read_csv(\"CBFC.csv\", index_col=[0])\n",
    "df.head()"
   ]
  },
  {
   "cell_type": "code",
   "execution_count": null,
   "id": "ebfc3a12",
   "metadata": {},
   "outputs": [],
   "source": [
    "# df1 = pd.read_excel(\"cbfc.xlsx\", index_col=[0])\n",
    "# df1.to_csv(\"CBFC.csv\")"
   ]
  },
  {
   "cell_type": "code",
   "execution_count": 9,
   "id": "81f1790e",
   "metadata": {},
   "outputs": [
    {
     "data": {
      "text/plain": [
       "str"
      ]
     },
     "execution_count": 9,
     "metadata": {},
     "output_type": "execute_result"
    }
   ],
   "source": [
    "date_lis = df[\"cert_date\"].values\n",
    "type(date_lis[0])"
   ]
  },
  {
   "cell_type": "code",
   "execution_count": 20,
   "id": "da7b668a",
   "metadata": {},
   "outputs": [],
   "source": [
    "days = []\n",
    "exception_c = 0 #counting exceptions for when dates werent mentioned\n",
    "for date in date_lis:\n",
    "    try:\n",
    "        vals = date.split(\"-\")\n",
    "        date1 = datetime.date(int(vals[2]),int(vals[1]),int(vals[0]))\n",
    "        day = date1.strftime(\"%A\")\n",
    "        days.append(day)\n",
    "    except ValueError:    #This weirdly enough did not happen(unlike in the last consolidated csv there is just one delimiter)\n",
    "        print(date, type(date))\n",
    "        vals = date.split(\"/\")\n",
    "        date1 = datetime.date(int(vals[2]),int(vals[1]),int(vals[0]))\n",
    "        day = date1.strftime(\"%A\")\n",
    "        days.append(day)\n",
    "    except Exception as e:\n",
    "        exception_c += 1\n",
    "        continue"
   ]
  },
  {
   "cell_type": "code",
   "execution_count": 22,
   "id": "f7261075",
   "metadata": {},
   "outputs": [
    {
     "name": "stdout",
     "output_type": "stream",
     "text": [
      "<class 'pandas.core.frame.DataFrame'>\n",
      "Int64Index: 520 entries, 397863 to 494521\n",
      "Data columns (total 11 columns):\n",
      " #   Column           Non-Null Count  Dtype \n",
      "---  ------           --------------  ----- \n",
      " 0   movie_id         520 non-null    int64 \n",
      " 1   name             0 non-null      object\n",
      " 2   lang             0 non-null      object\n",
      " 3   cert_no          0 non-null      object\n",
      " 4   cert_date        0 non-null      object\n",
      " 5   cert_length      0 non-null      object\n",
      " 6   producer         0 non-null      object\n",
      " 7   applicant        0 non-null      object\n",
      " 8   lang_id          520 non-null    int64 \n",
      " 9   movie_category   0 non-null      object\n",
      " 10  regional_office  0 non-null      object\n",
      "dtypes: int64(2), object(9)\n",
      "memory usage: 48.8+ KB\n"
     ]
    }
   ],
   "source": [
    "exception_c #// for which the dates werent mentioned\n",
    "df[df[\"cert_date\"].isna()].info()"
   ]
  },
  {
   "cell_type": "code",
   "execution_count": 18,
   "id": "7fcfd63b",
   "metadata": {},
   "outputs": [],
   "source": [
    "def todict(arr):\n",
    "    d = {\"Monday\":0, \"Tuesday\":0, \"Wednesday\":0, \"Thursday\":0, \"Friday\":0, \"Saturday\":0, \"Sunday\":0}\n",
    "    for elem in arr:\n",
    "            d[elem] += 1\n",
    "    return d\n",
    "days_dic = todict(days)\n",
    "lis = [\"M\"]"
   ]
  },
  {
   "cell_type": "code",
   "execution_count": 19,
   "id": "312ce2da",
   "metadata": {},
   "outputs": [
    {
     "data": {
      "image/png": "[encoded data removed]",
      "text/plain": [
       "<Figure size 432x288 with 1 Axes>"
      ]
     },
     "metadata": {},
     "output_type": "display_data"
    }
   ],
   "source": [
    "sns.set_theme(style=\"whitegrid\")\n",
    "ax = sns.barplot(x=list(days_dic.keys()), y=list(days_dic.values()))"
   ]
  },
  {
   "cell_type": "code",
   "execution_count": 40,
   "id": "7be7c8f2",
   "metadata": {},
   "outputs": [
    {
     "data": {
      "text/plain": [
       "['Saturday', 'Monday', 'Wednesday', 'Tuesday', 'Friday', 'Thursday', 'Sunday']"
      ]
     },
     "execution_count": 40,
     "metadata": {},
     "output_type": "execute_result"
    }
   ],
   "source": [
    "list(days_dic.keys())"
   ]
  },
  {
   "cell_type": "code",
   "execution_count": null,
   "id": "8ee88ab0",
   "metadata": {},
   "outputs": [],
   "source": []
  }
 ],
 "metadata": {
  "kernelspec": {
   "display_name": "Python 3",
   "language": "python",
   "name": "python3"
  },
  "language_info": {
   "codemirror_mode": {
    "name": "ipython",
    "version": 3
   },
   "file_extension": ".py",
   "mimetype": "text/x-python",
   "name": "python",
   "nbconvert_exporter": "python",
   "pygments_lexer": "ipython3",
   "version": "3.8.8"
  }
 },
 "nbformat": 4,
 "nbformat_minor": 5
}
