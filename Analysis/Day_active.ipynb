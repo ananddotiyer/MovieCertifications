{
 "cells": [
  {
   "cell_type": "code",
   "execution_count": 26,
   "id": "6858a1f1",
   "metadata": {},
   "outputs": [],
   "source": [
    "import pandas as pd\n",
    "import datetime\n",
    "import matplotlib.pyplot as plt\n",
    "import seaborn as sns"
   ]
  },
  {
   "cell_type": "code",
   "execution_count": 4,
   "id": "c2a1be05",
   "metadata": {},
   "outputs": [],
   "source": [
    "df = pd.read_csv(\"consolidated.csv\", index_col=[0])\n"
   ]
  },
  {
   "cell_type": "code",
   "execution_count": 12,
   "id": "81f1790e",
   "metadata": {},
   "outputs": [
    {
     "data": {
      "text/plain": [
       "'04-08-1984'"
      ]
     },
     "execution_count": 12,
     "metadata": {},
     "output_type": "execute_result"
    }
   ],
   "source": [
    "date_lis = df[\"Certificate Date\"].values\n",
    "date_lis[0]"
   ]
  },
  {
   "cell_type": "code",
   "execution_count": 22,
   "id": "da7b668a",
   "metadata": {},
   "outputs": [],
   "source": [
    "days = []\n",
    "for date in date_lis:\n",
    "    try:\n",
    "        vals = date.split(\"-\")\n",
    "        date1 = datetime.date(int(vals[2]),int(vals[1]),int(vals[0]))\n",
    "        day = date1.strftime(\"%A\")\n",
    "        days.append(day)\n",
    "    except:\n",
    "        vals = date.split(\"/\")\n",
    "        date1 = datetime.date(int(vals[2]),int(vals[1]),int(vals[0]))\n",
    "        day = date1.strftime(\"%A\")\n",
    "        days.append(day)"
   ]
  },
  {
   "cell_type": "code",
   "execution_count": 44,
   "id": "7fcfd63b",
   "metadata": {},
   "outputs": [],
   "source": [
    "def todict(arr):\n",
    "    d = {\"Monday\":0, \"Tuesday\":0, \"Wednesday\":0, \"Thursday\":0, \"Friday\":0, \"Saturday\":0, \"Sunday\":0}\n",
    "    for elem in arr:\n",
    "            d[elem] += 1\n",
    "    return d\n",
    "days_dic = todict(days)\n",
    "lis = [\"M\"]"
   ]
  },
  {
   "cell_type": "code",
   "execution_count": 45,
   "id": "312ce2da",
   "metadata": {},
   "outputs": [
    {
     "data": {
      "image/png": "[encoded data removed]",
      "text/plain": [
       "<Figure size 432x288 with 1 Axes>"
      ]
     },
     "metadata": {},
     "output_type": "display_data"
    }
   ],
   "source": [
    "sns.set_theme(style=\"whitegrid\")\n",
    "ax = sns.barplot(x=list(days_dic.keys()), y=list(days_dic.values()))"
   ]
  },
  {
   "cell_type": "code",
   "execution_count": 40,
   "id": "7be7c8f2",
   "metadata": {},
   "outputs": [
    {
     "data": {
      "text/plain": [
       "['Saturday', 'Monday', 'Wednesday', 'Tuesday', 'Friday', 'Thursday', 'Sunday']"
      ]
     },
     "execution_count": 40,
     "metadata": {},
     "output_type": "execute_result"
    }
   ],
   "source": [
    "list(days_dic.keys())"
   ]
  },
  {
   "cell_type": "code",
   "execution_count": null,
   "id": "8ee88ab0",
   "metadata": {},
   "outputs": [],
   "source": []
  }
 ],
 "metadata": {
  "kernelspec": {
   "display_name": "Python 3",
   "language": "python",
   "name": "python3"
  },
  "language_info": {
   "codemirror_mode": {
    "name": "ipython",
    "version": 3
   },
   "file_extension": ".py",
   "mimetype": "text/x-python",
   "name": "python",
   "nbconvert_exporter": "python",
   "pygments_lexer": "ipython3",
   "version": "3.8.8"
  }
 },
 "nbformat": 4,
 "nbformat_minor": 5
}
